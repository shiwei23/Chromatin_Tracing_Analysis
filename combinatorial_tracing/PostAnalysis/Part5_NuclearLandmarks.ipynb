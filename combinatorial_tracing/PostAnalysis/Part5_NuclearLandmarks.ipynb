{
 "cells": [
  {
   "cell_type": "markdown",
   "metadata": {},
   "source": [
    "__Author__: Bogdan Bintu\n",
    "\n",
    "__Email__: bbintu@g.harvard.edu\n",
    "\n",
    "__Date__:3/4/2020"
   ]
  },
  {
   "cell_type": "markdown",
   "metadata": {},
   "source": [
    "### Nucleoli association"
   ]
  },
  {
   "cell_type": "code",
   "execution_count": null,
   "metadata": {},
   "outputs": [],
   "source": [
    "tot_dists = np.load('Data/IMR90UntreatedDistanceNucleolus.npy')"
   ]
  },
  {
   "cell_type": "code",
   "execution_count": null,
   "metadata": {},
   "outputs": [],
   "source": [
    "#distances are assumed in um\n",
    "asocs = 1.*np.sum(tot_dists<0.25,0)/np.sum(tot_dists>-1,0)\n",
    "lens = [76, 80, 66, 63, 60, 55, 53, 48, 40, 43, 44, 44, 33, 30, 31, 30, 33, 33, 33, 33, 31, 31, 51]\n",
    "edges = np.cumsum([0]+lens)\n",
    "from matplotlib import cm\n",
    "plt.figure(figsize=(10,3))\n",
    "colors = list(cm.tab20.colors)+list(cm.Dark2.colors)\n",
    "for i in range(len(edges)-1):\n",
    "    plt.semilogy(np.arange(edges[i],edges[i+1]),asocs[edges[i]:edges[i+1]],'.-',color = colors[i])"
   ]
  },
  {
   "cell_type": "markdown",
   "metadata": {},
   "source": [
    "### Lamina and speckle"
   ]
  },
  {
   "cell_type": "code",
   "execution_count": null,
   "metadata": {},
   "outputs": [],
   "source": [
    "tot_distsLAM_WT_ = np.load('Data/IMR90UntreatedDistanceLamina.npy')\n",
    "tot_distsSC_WT_ = np.load('Data/IMR90UntreatedDistanceSpeckle.npy')\n",
    "tot_distsNUC_WT_ = np.load('Data/IMR90UntreatedDistanceNucleolus.npy')\n",
    "tot_distsLAM_am_ = np.load('Data/IMR90AmanitinDistanceLamina.npy')\n",
    "tot_distsSC_am_ = np.load('Data/IMR90AmanitinDistanceSpeckle.npy')\n",
    "tot_distsNUC_am_ = np.load('Data/IMR90AmanitinDistanceNucleolus.npy')"
   ]
  },
  {
   "cell_type": "code",
   "execution_count": null,
   "metadata": {},
   "outputs": [],
   "source": [
    "resWT = np.load(r'Data\\Densities\\densityIMR90Untreated.npy');\n",
    "AD = resWT[:,2,1,:]\n",
    "BD = resWT[:,3,1,:]\n",
    "Dratio_WT=AD/BD"
   ]
  },
  {
   "cell_type": "code",
   "execution_count": null,
   "metadata": {},
   "outputs": [],
   "source": [
    "nuc_cutoof = 0.25\n",
    "frLAM_WT = 1.*np.sum(tot_distsLAM_WT_<nuc_cutoof,0)/np.sum(good_WT,0)\n",
    "frNUC_WT = 1.*np.sum(tot_distsNUC_WT_<nuc_cutoof,0)/np.sum(good_WT,0)\n",
    "frSC_WT = 1.*np.sum(tot_distsSC_WT_<nuc_cutoof,0)/np.sum(good_WT,0)\n",
    "\n",
    "nuc_cutoof = 0.25\n",
    "frLAM_am = 1.*np.sum(tot_distsLAM_am_<nuc_cutoof,0)/np.sum(good_am,0)\n",
    "frNUC_am = 1.*np.sum(tot_distsNUC_am_<nuc_cutoof,0)/np.sum(good_am,0)\n",
    "frSC_am = 1.*np.sum(tot_distsSC_am_<nuc_cutoof,0)/np.sum(good_am,0)\n",
    "\n",
    "dLAM_WT = np.nanmedian(tot_distsLAM_WT_,axis=0)\n",
    "dSC_WT = np.nanmedian(tot_distsSC_WT_,axis=0)\n",
    "dNUC_WT = np.nanmedian(tot_distsNUC_WT_,axis=0)\n",
    "dRAT_WT = np.nanmedian(Dratio_WT,axis=0)"
   ]
  },
  {
   "cell_type": "markdown",
   "metadata": {},
   "source": [
    "### Speckle association and A/B density"
   ]
  },
  {
   "cell_type": "code",
   "execution_count": null,
   "metadata": {},
   "outputs": [],
   "source": [
    "fig=plt.figure()\n",
    "plt.semilogy(frLAM_WT,dRAT_WT,'o',color='gray',markeredgecolor='k')\n",
    "plt.ylabel(\"A/B density ratio\")\n",
    "plt.xlabel(\"Fraction of cells lamina-associated\")\n",
    "fig.savefig(r'C:\\Users\\Bogdan\\Dropbox\\ScienceWGCT_Figures\\baseimages\\fr_lamina_ABdensity.pdf')"
   ]
  },
  {
   "cell_type": "markdown",
   "metadata": {},
   "source": [
    "### Lamina association and A/B density"
   ]
  },
  {
   "cell_type": "code",
   "execution_count": null,
   "metadata": {},
   "outputs": [],
   "source": [
    "fig=plt.figure()\n",
    "plt.semilogy(frLAM_WT,dRAT_WT,'o',color='gray',markeredgecolor='k')\n",
    "plt.ylabel(\"A/B density ratio\")\n",
    "plt.xlabel(\"Fraction of cells lamina-associated\")\n",
    "fig.savefig(r'C:\\Users\\Bogdan\\Dropbox\\ScienceWGCT_Figures\\baseimages\\fr_lamina_ABdensity.pdf')"
   ]
  },
  {
   "cell_type": "markdown",
   "metadata": {},
   "source": [
    "### Transcriptional dependent association"
   ]
  },
  {
   "cell_type": "code",
   "execution_count": null,
   "metadata": {},
   "outputs": [],
   "source": [
    "cutoff=0.25\n",
    "Asocs = tot_dists<cutoff\n",
    "good = tot_dists>-1\n",
    "\n",
    "aSs = 1.*np.sum(Asocs*(~Transcr),axis=0)/np.sum((~Transcr)*good,axis=0)\n",
    "aTs = 1.*np.sum(Asocs*(Transcr),axis=0)/np.sum(Transcr*good,axis=0)\n",
    "anNs = 1.*np.sum(Transcr*(~Asocs),axis=0)/np.sum((~Asocs)*good,axis=0)\n",
    "aNs = 1.*np.sum(Transcr*(Asocs),axis=0)/np.sum(Asocs*good,axis=0)\n",
    "\n",
    "plt.figure()\n",
    "ind = np.argsort(aSs)\n",
    "plt.semilogy(aTs[ind],'ro',alpha=1,label='Transcribed')\n",
    "plt.semilogy(aSs[ind],'bo',label='Silent')\n",
    "plt.xlabel(\"Region index\")\n",
    "plt.ylabel(\"Fraction nucleoli-asociated\")\n",
    "plt.legend()\n",
    "\n",
    "plt.figure()\n",
    "ind = np.argsort(anNs)\n",
    "plt.semilogy(aNs[ind],'bo',alpha=1,label='nucleoli-associated')\n",
    "plt.semilogy(anNs[ind],'ko',label='not associated')\n",
    "plt.xlabel(\"Region index\")\n",
    "plt.ylabel(\"Bursting frequency\")\n",
    "plt.legend()\n",
    "print([np.exp(np.nanpercentile(np.log(aNs)-np.log(anNs),perc)) for perc in [25,50,75]])"
   ]
  }
 ],
 "metadata": {
  "kernelspec": {
   "display_name": "Python 2",
   "language": "python",
   "name": "python2"
  },
  "language_info": {
   "codemirror_mode": {
    "name": "ipython",
    "version": 2
   },
   "file_extension": ".py",
   "mimetype": "text/x-python",
   "name": "python",
   "nbconvert_exporter": "python",
   "pygments_lexer": "ipython2",
   "version": "2.7.16"
  }
 },
 "nbformat": 4,
 "nbformat_minor": 2
}
